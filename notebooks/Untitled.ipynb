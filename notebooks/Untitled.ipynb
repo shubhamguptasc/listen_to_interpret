{
 "cells": [
  {
   "cell_type": "code",
   "execution_count": 3,
   "id": "e61660bb",
   "metadata": {},
   "outputs": [],
   "source": [
    "import numpy as np\n",
    "import pandas as pd\n",
    "import sklearn\n",
    "\n",
    "from sklearn.preprocessing import scale"
   ]
  },
  {
   "cell_type": "code",
   "execution_count": 5,
   "id": "777d90da",
   "metadata": {},
   "outputs": [
    {
     "data": {
      "text/plain": [
       "array([[-0.16552118, -1.06904497, -0.1393466 ],\n",
       "       [ 1.4896906 ,  0.26726124,  1.60248593],\n",
       "       [-1.40693001, -1.06904497, -1.53281263],\n",
       "       [-0.57932412,  1.60356745, -0.1393466 ],\n",
       "       [ 0.66208471,  0.26726124,  0.2090199 ]])"
      ]
     },
     "execution_count": 5,
     "metadata": {},
     "output_type": "execute_result"
    }
   ],
   "source": [
    "pizza_data = np.array([[2100,   10,  800],\n",
    "       [2500,   11,  850],\n",
    "       [1800,   10,  760],\n",
    "       [2000,   12,  800],\n",
    "       [2300,   11,  810]])\n",
    "scale(pizza_data)"
   ]
  },
  {
   "cell_type": "code",
   "execution_count": 8,
   "id": "634ea774",
   "metadata": {},
   "outputs": [
    {
     "data": {
      "text/plain": [
       "array([ 0., -0.,  0.])"
      ]
     },
     "execution_count": 8,
     "metadata": {},
     "output_type": "execute_result"
    }
   ],
   "source": [
    "scale(pizza_data).mean(axis=0).round(decimals=3)"
   ]
  },
  {
   "cell_type": "code",
   "execution_count": 9,
   "id": "ca0929a4",
   "metadata": {},
   "outputs": [
    {
     "data": {
      "text/plain": [
       "array([1., 1., 1.])"
      ]
     },
     "execution_count": 9,
     "metadata": {},
     "output_type": "execute_result"
    }
   ],
   "source": [
    "scale(pizza_data).std(axis=0).round(decimals=3)"
   ]
  },
  {
   "cell_type": "code",
   "execution_count": 10,
   "id": "c5f4c62d",
   "metadata": {},
   "outputs": [
    {
     "name": "stdout",
     "output_type": "stream",
     "text": [
      "[[0.42857143 0.         0.44444444]\n",
      " [1.         0.5        1.        ]\n",
      " [0.         0.         0.        ]\n",
      " [0.28571429 1.         0.44444444]\n",
      " [0.71428571 0.5        0.55555556]]\n"
     ]
    }
   ],
   "source": [
    "from sklearn.preprocessing import MinMaxScaler\n",
    "\n",
    "default_scaler = MinMaxScaler()\n",
    "\n",
    "transformed = default_scaler.fit_transform(pizza_data)\n",
    "print(transformed)"
   ]
  },
  {
   "cell_type": "code",
   "execution_count": 13,
   "id": "8354bad2",
   "metadata": {},
   "outputs": [
    {
     "data": {
      "text/plain": [
       "array([-2.57142857, -5.        , -8.44444444])"
      ]
     },
     "execution_count": 13,
     "metadata": {},
     "output_type": "execute_result"
    }
   ],
   "source": [
    "default_scaler.min_"
   ]
  },
  {
   "cell_type": "code",
   "execution_count": 14,
   "id": "540af088",
   "metadata": {},
   "outputs": [
    {
     "data": {
      "text/plain": [
       "array([[2100,   10,  800],\n",
       "       [2500,   11,  850],\n",
       "       [1800,   10,  760],\n",
       "       [2000,   12,  800],\n",
       "       [2300,   11,  810]])"
      ]
     },
     "execution_count": 14,
     "metadata": {},
     "output_type": "execute_result"
    }
   ],
   "source": [
    "pizza_data"
   ]
  },
  {
   "cell_type": "code",
   "execution_count": null,
   "id": "fcb0e12a",
   "metadata": {},
   "outputs": [],
   "source": []
  }
 ],
 "metadata": {
  "kernelspec": {
   "display_name": "Python 3 (ipykernel)",
   "language": "python",
   "name": "python3"
  },
  "language_info": {
   "codemirror_mode": {
    "name": "ipython",
    "version": 3
   },
   "file_extension": ".py",
   "mimetype": "text/x-python",
   "name": "python",
   "nbconvert_exporter": "python",
   "pygments_lexer": "ipython3",
   "version": "3.8.16"
  }
 },
 "nbformat": 4,
 "nbformat_minor": 5
}
